{
 "cells": [
  {
   "cell_type": "markdown",
   "id": "21ccf355-01bd-4cbe-b05a-75918f80ba46",
   "metadata": {},
   "source": [
    "## Load expanded triples from DeepSeek, make it unique triples"
   ]
  },
  {
   "cell_type": "code",
   "execution_count": 25,
   "id": "ab2a5caf-6cfe-40fb-859a-18f1abed3f74",
   "metadata": {},
   "outputs": [
    {
     "name": "stdout",
     "output_type": "stream",
     "text": [
      "Dataset({\n",
      "    features: ['input_ids', 'attention_mask', 'positions', 'matched_head_token_ids', 'matched_heads', 'head_token_ids', 'head', 'predictions', 'tails'],\n",
      "    num_rows: 259860\n",
      "})\n",
      "{'input_ids': [[2, 13, 1930, 2706, 1920, 3700, 26, 6478, 8277, 12, 2292, 9418, 16, 6442, 2292, 6934, 1007, 13, 18, 23, 17, 50, 43, 3505, 5339, 2161, 2193, 43, 25, 17, 7464, 4795, 17, 30210, 4778, 2899, 8761, 24578, 3436, 3798, 4682, 1988, 5098, 1956, 1920, 10956, 3957, 1927, 1920, 3214, 2161, 30, 2535, 4280, 4695, 1930, 7122, 16, 6396, 1930, 26670, 16, 5952, 17, 21862, 2859, 1930, 19765, 16, 2659, 1930, 3455, 4990, 16, 3771, 17, 2454, 4695, 16, 1930, 8578, 4695, 37, 3276, 39, 18, 4852, 16, 1920, 24578, 1985, 11214, 1942, 7857, 4695, 7447, 1927, 22255, 31, 2406, 16, 24578, 1985, 3549, 1966, 2436, 3957, 16, 47, 18, 49, 18, 16, 4097, 8979, 16, 1958, 1920, 4032, 2859, 1930, 4767, 15992, 2444, 1930, 2084, 1920, 3]], 'attention_mask': [[1, 1, 1, 1, 1, 1, 1, 1, 1, 1, 1, 1, 1, 1, 1, 1, 1, 1, 1, 1, 1, 1, 1, 1, 1, 1, 1, 1, 1, 1, 1, 1, 1, 1, 1, 1, 1, 1, 1, 1, 1, 1, 1, 1, 1, 1, 1, 1, 1, 1, 1, 1, 1, 1, 1, 1, 1, 1, 1, 1, 1, 1, 1, 1, 1, 1, 1, 1, 1, 1, 1, 1, 1, 1, 1, 1, 1, 1, 1, 1, 1, 1, 1, 1, 1, 1, 1, 1, 1, 1, 1, 1, 1, 1, 1, 1, 1, 1, 1, 1, 1, 1, 1, 1, 1, 1, 1, 1, 1, 1, 1, 1, 1, 1, 1, 1, 1, 1, 1, 1, 1, 1, 1, 1, 1, 1, 1, 1, 0, 0, 0, 0, 0, 0, 0, 0, 0, 0, 0, 0, 0, 0, 0, 0, 0, 0, 0, 0, 0, 0, 0, 0, 0, 0, 0, 0, 0, 0, 0, 0, 0, 0, 0, 0, 0, 0, 0, 0, 0, 0, 0, 0, 0, 0, 0, 0, 0, 0, 0, 0, 0, 0, 0, 0, 0, 0, 0, 0, 0, 0, 0, 0, 0, 0, 0, 0, 0, 0, 0, 0, 0, 0, 0, 0, 0, 0, 0, 0, 0, 0, 0, 0, 0, 0, 0, 0, 0, 0, 0, 0, 0, 0, 0, 0, 0, 0, 0, 0, 0, 0, 0, 0, 0, 0, 0, 0, 0, 0, 0, 0, 0, 0, 0, 0, 0, 0, 0, 0, 0, 0, 0, 0, 0, 0, 0, 0, 0, 0, 0, 0, 0, 0, 0, 0, 0, 0, 0, 0, 0, 0, 0, 0, 0, 0, 0, 0, 0, 0, 0, 0, 0, 0, 0, 0, 0, 0, 0, 0, 0, 0, 0, 0, 0, 0, 0, 0, 0, 0, 0, 0, 0, 0, 0, 0, 0, 0, 0, 0, 0, 0, 0, 0, 0, 0, 0, 0, 0, 0, 0, 0, 0, 0, 0, 0, 0, 0, 0, 0, 0, 0, 0, 0, 0, 0, 0, 0, 0, 0, 0, 0, 0, 0, 0, 0, 0, 0, 0, 0, 0, 0, 0, 0, 0, 0, 0, 0, 0, 0, 0, 0, 0, 0, 0, 0, 0, 0, 0, 0, 0, 0, 0, 0, 0, 0, 0, 0, 0, 0, 0, 0, 0, 0, 0, 0, 0, 0, 0, 0, 0, 0, 0, 0, 0, 0, 0, 0, 0, 0, 0, 0, 0, 0, 0, 0, 0, 0, 0, 0, 0, 0, 0, 0, 0, 0, 0, 0, 0, 0, 0, 0, 0, 0, 0, 0, 0, 0, 0, 0, 0, 0, 0, 0, 0, 0, 0, 0, 0, 0, 0, 0, 0, 0, 0, 0, 0, 0, 0, 0, 0, 0, 0, 0, 0, 0, 0, 0, 0, 0, 0, 0, 0, 0, 0, 0, 0, 0, 0, 0, 0, 0, 0, 0, 0, 0, 0, 0, 0, 0, 0, 0, 0, 0, 0, 0, 0, 0, 0, 0, 0, 0, 0, 0, 0, 0, 0, 0, 0, 0, 0, 0, 0, 0, 0, 0, 0, 0, 0, 0, 0, 0, 0, 0, 0, 0, 0, 0, 0, 0, 0, 0, 0, 0, 0, 0, 0, 0, 0, 0, 0, 0, 0, 0, 0, 0, 0, 0, 0, 0, 0, 0, 0, 0, 0, 0, 0, 0, 0, 0, 0, 0, 0, 0, 0, 0, 0, 0, 0, 0, 0, 0, 0, 0, 0, 0, 0, 0, 0, 0, 0, 0, 0, 0, 0, 0, 0, 0, 0, 0, 0, 0, 0, 0, 0, 0, 0, 0, 0, 0, 0, 0, 0, 0, 0, 0, 0, 0, 0, 0, 0, 0, 0, 0, 0, 0, 0, 0, 0, 0, 0, 0, 0, 0, 0, 0, 0, 0, 0, 0, 0, 0, 0, 0, 0, 0, 0, 0, 0, 0, 0, 0, 0, 0, 0, 0, 0, 0, 0, 0, 0, 0, 0, 0, 0, 0, 0, 0, 0, 0, 0, 0, 0, 0, 0, 0, 0, 0, 0, 0, 0, 0, 0, 0, 0, 0, 0, 0, 0, 0, 0, 0, 0, 0, 0, 0, 0, 0, 0, 0, 0, 0, 0, 0, 0, 0, 0, 0, 0, 0, 0, 0, 0, 0, 0, 0, 0, 0, 0, 0, 0, 0, 0, 0, 0, 0, 0, 0, 0, 0, 0, 0, 0, 0, 0, 0, 0, 0, 0, 0, 0, 0, 0, 0, 0, 0, 0, 0, 0, 0, 0, 0, 0, 0, 0, 0, 0, 0, 0, 0, 0, 0, 0, 0, 0, 0, 0, 0, 0, 0, 0, 0, 0, 0, 0, 0, 0, 0, 0, 0, 0, 0, 0, 0, 0, 0, 0, 0, 0, 0, 0, 0, 0, 0, 0, 0, 0, 0, 0, 0, 0, 0, 0, 0, 0, 0, 0, 0, 0, 0, 0, 0, 0, 0, 0, 0, 0, 0, 0, 0, 0, 0, 0, 0, 0, 0, 0, 0, 0, 0, 0, 0, 0, 0, 0, 0, 0, 0, 0, 0, 0, 0, 0, 0, 0, 0, 0, 0, 0, 0, 0, 0, 0, 0, 0, 0, 0, 0, 0, 0, 0, 0, 0, 0, 0, 0, 0, 0, 0, 0, 0, 0, 0, 0, 0, 0, 0, 0, 0, 0, 0, 0, 0, 0, 0, 0, 0, 0, 0, 0, 0, 0, 0, 0, 0, 0, 0, 0, 0, 0, 0, 0, 0, 0, 0, 0, 0, 0, 0, 0, 0, 0, 0, 0, 0, 0, 0, 0, 0, 0, 0, 0, 0, 0, 0, 0, 0, 0, 0, 0, 0, 0, 0, 0, 0, 0, 0, 0, 0, 0, 0, 0, 0, 0, 0, 0, 0, 0, 0, 0, 0, 0, 0, 0, 0, 0, 0, 0, 0, 0, 0, 0, 0, 0, 0, 0, 0, 0, 0, 0, 0, 0, 0, 0, 0, 0, 0, 0, 0, 0, 0, 0, 0, 0, 0, 0, 0, 0, 0, 0, 0, 0, 0, 0, 0, 0, 0, 0, 0, 0, 0, 0, 0, 0, 0, 0, 0, 0, 0, 0, 0, 0, 0, 0, 0, 0, 0, 0, 0, 0, 0, 0, 0, 0, 0, 0, 0, 0, 0, 0, 0, 0, 0, 0, 0, 0, 0, 0, 0, 0, 0, 0, 0, 0, 0, 0]], 'positions': 118, 'matched_head_token_ids': [4032], 'matched_heads': 'diabetes', 'head_token_ids': [4032], 'head': 'diabetes', 'predictions': \"of - blood dental ##y ' , pediatric disorder disease bl medical abnormal clinic wound ##ure central general adult peripheral\", 'tails': ['pediatric disorder', 'disease', 'peripheral disease', 'abnormal wound', 'central disease', 'general disease', 'adult disease', 'blood disease', 'medical disorder']}\n"
     ]
    }
   ],
   "source": [
    "from datasets import Dataset\n",
    "\n",
    "dataset = Dataset.load_from_disk(\"/projects/JHA/shared/triples/deepseek_brings_about_top20\")\n",
    "print(dataset)\n",
    "print(dataset[0])"
   ]
  },
  {
   "cell_type": "code",
   "execution_count": 31,
   "id": "a976694a-8070-4ae0-8c30-37a630879c42",
   "metadata": {},
   "outputs": [
    {
     "name": "stdout",
     "output_type": "stream",
     "text": [
      "1633523\n"
     ]
    }
   ],
   "source": [
    "num = 0\n",
    "a = dataset['tails']\n",
    "for b in a:\n",
    "    num += len(b)\n",
    "print(num)"
   ]
  },
  {
   "cell_type": "code",
   "execution_count": 11,
   "id": "322c79eb-1c73-4dbd-adb1-f5b0862d5fc3",
   "metadata": {},
   "outputs": [
    {
     "name": "stdout",
     "output_type": "stream",
     "text": [
      "Dataset({\n",
      "    features: ['head', 'tails'],\n",
      "    num_rows: 259860\n",
      "})\n",
      "{'head': 'diabetes', 'tails': ['anemia disease', 'benign neoplasm', 'obstructive disease', 'rupture disease', 'congenital disease', 'arthrop disease']}\n"
     ]
    }
   ],
   "source": [
    "dataset = dataset.remove_columns([col for col in dataset.column_names if col not in ['head', 'tails']])\n",
    "print(dataset)\n",
    "print(dataset[50])"
   ]
  },
  {
   "cell_type": "code",
   "execution_count": 19,
   "id": "beb76841-35f0-4ba0-83da-420d71a70a78",
   "metadata": {},
   "outputs": [],
   "source": [
    "head_to_tails = {}\n",
    "for entry in dataset:\n",
    "    head = entry[\"head\"]\n",
    "    tails = [tail for tail in entry[\"tails\"] if tail.strip()] \n",
    "    \n",
    "    if head not in head_to_tails:\n",
    "        head_to_tails[head] = set()  # Use a set to ensure uniqueness\n",
    "\n",
    "    head_to_tails[head].update(tails)\n",
    "\n",
    "# Convert to Hugging Face Dataset format\n",
    "unique_heads_dataset = Dataset.from_dict({\n",
    "    \"head\": list(head_to_tails.keys()),\n",
    "    \"tails\": [list(tails) for tails in head_to_tails.values()]\n",
    "})"
   ]
  },
  {
   "cell_type": "code",
   "execution_count": 23,
   "id": "b757fff8-4021-4174-b5af-c5a773500445",
   "metadata": {},
   "outputs": [
    {
     "data": {
      "application/vnd.jupyter.widget-view+json": {
       "model_id": "5da3f054aa4c42c58373008af6609ed1",
       "version_major": 2,
       "version_minor": 0
      },
      "text/plain": [
       "Saving the dataset (0/1 shards):   0%|          | 0/293 [00:00<?, ? examples/s]"
      ]
     },
     "metadata": {},
     "output_type": "display_data"
    }
   ],
   "source": [
    "unique_heads_dataset.save_to_disk(\"/projects/JHA/shared/triples/deepseek_brings_about_top20_unique\")"
   ]
  },
  {
   "cell_type": "code",
   "execution_count": 32,
   "id": "732f23c5-aae4-4540-b8f1-31333345f4ef",
   "metadata": {},
   "outputs": [
    {
     "name": "stdout",
     "output_type": "stream",
     "text": [
      "148216\n",
      "293\n"
     ]
    }
   ],
   "source": [
    "num = 0\n",
    "for entry in unique_heads_dataset:\n",
    "    num += len(entry['tails'])\n",
    "print(num)\n",
    "print(len(unique_heads_dataset))"
   ]
  },
  {
   "cell_type": "code",
   "execution_count": 35,
   "id": "47edb501-f2e4-4bb4-92d6-ca1ed65d7142",
   "metadata": {},
   "outputs": [
    {
     "name": "stdout",
     "output_type": "stream",
     "text": [
      "16951\n"
     ]
    }
   ],
   "source": [
    "print(len(unique_heads_dataset[0]['tails']))"
   ]
  },
  {
   "cell_type": "markdown",
   "id": "fd4fa53e-21eb-45d5-8899-595cb9ec47ff",
   "metadata": {},
   "source": [
    "## build context for each query"
   ]
  },
  {
   "cell_type": "code",
   "execution_count": null,
   "id": "54dfc616-58a5-4629-ba5b-3e3ce92eed31",
   "metadata": {},
   "outputs": [],
   "source": []
  }
 ],
 "metadata": {
  "kernelspec": {
   "display_name": "graphrag [~/.conda/envs/graphrag/]",
   "language": "python",
   "name": "conda_graphrag"
  },
  "language_info": {
   "codemirror_mode": {
    "name": "ipython",
    "version": 3
   },
   "file_extension": ".py",
   "mimetype": "text/x-python",
   "name": "python",
   "nbconvert_exporter": "python",
   "pygments_lexer": "ipython3",
   "version": "3.11.0"
  }
 },
 "nbformat": 4,
 "nbformat_minor": 5
}
