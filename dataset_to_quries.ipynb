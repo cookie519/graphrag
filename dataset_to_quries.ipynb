{
 "cells": [
  {
   "cell_type": "markdown",
   "id": "fd4fa53e-21eb-45d5-8899-595cb9ec47ff",
   "metadata": {},
   "source": [
    "## MedMCQ dataset"
   ]
  },
  {
   "cell_type": "code",
   "execution_count": 10,
   "id": "c8483e74-a593-4228-8888-c17debeab5bc",
   "metadata": {},
   "outputs": [
    {
     "name": "stdout",
     "output_type": "stream",
     "text": [
      "Dataset({\n",
      "    features: ['id', 'question', 'opa', 'opb', 'opc', 'opd', 'cop', 'choice_type', 'exp', 'subject_name', 'topic_name'],\n",
      "    num_rows: 7819\n",
      "})\n",
      "{'id': 'f79a972f-3611-4cdc-837e-ce2f9393f592', 'question': 'Hyper viscosity is seen in', 'opa': 'Cryoglobulinemia', 'opb': 'Multiple myeloma', 'opc': 'MGUS', 'opd': 'Lymphoma', 'cop': 0, 'choice_type': 'single', 'exp': 'Ref William hematology 6/e p1268 The term cryoglobulinemia refers to the presence in the serum of proteins that precipitate at temperatures below 37 degrees C and redissolve on rewarming. ... The elective treatment for hyperviscosity syndrome, whether associated with monoclonal, mixed, or polyclonalcryoglobulinemia, is plasma exchange.', 'subject_name': 'Anatomy', 'topic_name': 'General anatomy'}\n"
     ]
    }
   ],
   "source": [
    "from datasets import Dataset\n",
    "dataset = Dataset.load_from_disk(\"/projects/JHA/shared/dataset/medmcqa_diabetes_llm_final\")\n",
    "print(dataset)\n",
    "print(dataset[0])"
   ]
  },
  {
   "cell_type": "code",
   "execution_count": 11,
   "id": "74b2506e",
   "metadata": {},
   "outputs": [
    {
     "name": "stdout",
     "output_type": "stream",
     "text": [
      "Dataset({\n",
      "    features: ['id', 'question', 'opa', 'opb', 'opc', 'opd', 'cop', 'choice_type', 'exp', 'subject_name', 'topic_name'],\n",
      "    num_rows: 7576\n",
      "})\n",
      "{'id': 'f79a972f-3611-4cdc-837e-ce2f9393f592', 'question': 'Hyper viscosity is seen in', 'opa': 'Cryoglobulinemia', 'opb': 'Multiple myeloma', 'opc': 'MGUS', 'opd': 'Lymphoma', 'cop': 0, 'choice_type': 'single', 'exp': 'Ref William hematology 6/e p1268 The term cryoglobulinemia refers to the presence in the serum of proteins that precipitate at temperatures below 37 degrees C and redissolve on rewarming. ... The elective treatment for hyperviscosity syndrome, whether associated with monoclonal, mixed, or polyclonalcryoglobulinemia, is plasma exchange.', 'subject_name': 'Anatomy', 'topic_name': 'General anatomy'}\n"
     ]
    }
   ],
   "source": [
    "# throw 'cop' == -1 data\n",
    "dataset = dataset.filter(lambda example: example['cop'] != -1)\n",
    "print(dataset)\n",
    "print(dataset[0])"
   ]
  },
  {
   "cell_type": "code",
   "execution_count": 12,
   "id": "1f149e81-b676-498e-bef6-cfc28a51d4b3",
   "metadata": {},
   "outputs": [
    {
     "name": "stdout",
     "output_type": "stream",
     "text": [
      "Queries have been written to /projects/JHA/shared/dataset/medmcqa_diabetes_llm_final/queries.txt\n",
      "answers have been written to /projects/JHA/shared/dataset/medmcqa_diabetes_llm_final/answers.json\n"
     ]
    }
   ],
   "source": [
    "from datasets import Dataset\n",
    "import os\n",
    "import json\n",
    "\n",
    "root = \"/projects/JHA/shared/dataset/medmcqa_diabetes_llm_final\"\n",
    "\n",
    "# Shuffle the dataset and select 1000 samples\n",
    "sampled_dataset = dataset.shuffle(seed=42) #.select(range(1000))\n",
    "\n",
    "# Function to format a single instance into a query\n",
    "def format_query(instance):\n",
    "    question = instance['question'].replace(\"\\n\", \"\")\n",
    "    opa = instance['opa'].replace(\"\\n\", \"\")\n",
    "    opb = instance['opb'].replace(\"\\n\", \"\")\n",
    "    opc = instance['opc'].replace(\"\\n\", \"\")\n",
    "    opd = instance['opd'].replace(\"\\n\", \"\")\n",
    "    \n",
    "    query = f\"{question}: A. {opa}, B. {opb}, C. {opc}, D. {opd}. Please select the correct answer from A, B, C, D. Put your answer in \\\\boxed{{}}.\"\n",
    "    return query\n",
    "\n",
    "# Generate all queries\n",
    "queries = [format_query(instance) for instance in sampled_dataset]\n",
    "\n",
    "# Write all queries into a text file\n",
    "output_file_path = os.path.join(root, \"queries.txt\")\n",
    "with open(output_file_path, 'w') as file:\n",
    "    file.write(\"\\n\".join(queries))\n",
    "\n",
    "print(f\"Queries have been written to {output_file_path}\")\n",
    "\n",
    "\n",
    "answers = [instance['cop'] for instance in sampled_dataset]\n",
    "\n",
    "json_file = os.path.join(root, \"answers.json\")\n",
    "with open(json_file, \"w\") as file:\n",
    "    json.dump(answers, file, indent=4)  # `indent=4` makes the JSON file human-readable\n",
    "print(f\"answers have been written to {json_file}\")"
   ]
  },
  {
   "cell_type": "code",
   "execution_count": 13,
   "id": "0fecd6e7-b01a-4a20-931a-8539b7ac00f5",
   "metadata": {},
   "outputs": [],
   "source": [
    "with open(output_file_path, \"r\") as file:\n",
    "    queries = file.readlines()\n",
    "\n",
    "for i, query in enumerate(queries):\n",
    "    if 'A' not in query:\n",
    "        print(f'{i}: {query}')"
   ]
  },
  {
   "cell_type": "code",
   "execution_count": 14,
   "id": "82cc7ace-55b0-45a0-8904-0e6949be78f5",
   "metadata": {},
   "outputs": [
    {
     "name": "stdout",
     "output_type": "stream",
     "text": [
      "Acute anginal attack can be terminated by: September 2007: A. Nitroglycerin, B. Digoxin, C. Lignocaine, D. Verapamil. Please select the correct answer from A, B, C, D. Put your answer in \\boxed{}.\n",
      "\n"
     ]
    }
   ],
   "source": [
    "print(queries[6407])"
   ]
  },
  {
   "cell_type": "code",
   "execution_count": 15,
   "id": "53189a79-75be-4392-bee9-050439b11212",
   "metadata": {},
   "outputs": [
    {
     "data": {
      "text/plain": [
       "7576"
      ]
     },
     "execution_count": 15,
     "metadata": {},
     "output_type": "execute_result"
    }
   ],
   "source": [
    "len(queries)"
   ]
  },
  {
   "cell_type": "code",
   "execution_count": null,
   "id": "f5b09fb1-416b-4fc5-9fc9-3c3431923a99",
   "metadata": {},
   "outputs": [],
   "source": []
  }
 ],
 "metadata": {
  "kernelspec": {
   "display_name": "graphrag [~/.conda/envs/graphrag/]",
   "language": "python",
   "name": "conda_graphrag"
  },
  "language_info": {
   "codemirror_mode": {
    "name": "ipython",
    "version": 3
   },
   "file_extension": ".py",
   "mimetype": "text/x-python",
   "name": "python",
   "nbconvert_exporter": "python",
   "pygments_lexer": "ipython3",
   "version": "3.11.0"
  }
 },
 "nbformat": 4,
 "nbformat_minor": 5
}
